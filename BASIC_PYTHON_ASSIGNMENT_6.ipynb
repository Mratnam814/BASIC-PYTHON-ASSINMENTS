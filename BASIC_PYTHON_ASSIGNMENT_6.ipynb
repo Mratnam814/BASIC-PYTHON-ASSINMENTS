{
 "cells": [
  {
   "cell_type": "markdown",
   "id": "6ebe0d0e",
   "metadata": {},
   "source": [
    "1.What are Escape characters ? and how do you use them ?\n",
    "\n",
    "\n",
    "\n",
    "Ans: Escape characters represent characters in string values that would otherwise be difficult or impossible to type into code. we can use the backslash character to escape a single character or symbol\n",
    "example: \\t, \\n"
   ]
  },
  {
   "cell_type": "code",
   "execution_count": 7,
   "id": "6f447b82",
   "metadata": {},
   "outputs": [],
   "source": [
    "s= \"best coaching institute for data science is\\\"ineuron\\\".basically,the bestest\""
   ]
  },
  {
   "cell_type": "code",
   "execution_count": 6,
   "id": "b44554a6",
   "metadata": {},
   "outputs": [
    {
     "data": {
      "text/plain": [
       "'best coaching institute for data science is\"ineuron\".basicaly,the bestest'"
      ]
     },
     "execution_count": 6,
     "metadata": {},
     "output_type": "execute_result"
    }
   ],
   "source": [
    "s"
   ]
  },
  {
   "cell_type": "markdown",
   "id": "ff73997e",
   "metadata": {},
   "source": [
    "2.What do the escape characters n and t stand for ?\n",
    "\n",
    "\n",
    "\n",
    "Ans: \\n is a newline, \\t is a tab"
   ]
  },
  {
   "cell_type": "code",
   "execution_count": 8,
   "id": "315bc9c5",
   "metadata": {},
   "outputs": [
    {
     "name": "stdout",
     "output_type": "stream",
     "text": [
      "Hello\n",
      "World!\n",
      "Hello\n",
      "World!\n"
     ]
    }
   ],
   "source": [
    "txt = \"Hello\\nWorld!\"\n",
    "print(txt) \n",
    "\n",
    "txt1 = \"Hello\\tWorld!\"\n",
    "print(txt) "
   ]
  },
  {
   "cell_type": "markdown",
   "id": "1e97e445",
   "metadata": {},
   "source": [
    "3.What is the way to include backslash character in a string?\n",
    "\n",
    "\n",
    "Ans: The \\\\ escape character will represent the backslash character in a string"
   ]
  },
  {
   "cell_type": "markdown",
   "id": "16260572",
   "metadata": {},
   "source": [
    "4.The string \"Howl's Moving Castle\" is a correct value. Why isn't the single quote character in the word Howl's not escaped a problem ?\n",
    "\n",
    "\n",
    "\n",
    "\n",
    "Ans: The string \"Howl's Moving Castle\" escaped the problem because it is wrapped inside double quotes. if its wrapped inside single quotes then we have to use escape character \\' to show single quote in the final output\n",
    "'Howl\\'s Moving Castle' -> 'Howl's Moving Castle'"
   ]
  },
  {
   "cell_type": "markdown",
   "id": "d2d9f011",
   "metadata": {},
   "source": [
    "5.How do you write a string of newlines if you don't want to use the n character?\n",
    "\n",
    "\n",
    "Ans: Multiline string allow you to use newlines in string without the \\n escape character\n",
    "\n"
   ]
  },
  {
   "cell_type": "code",
   "execution_count": 11,
   "id": "6ac99923",
   "metadata": {},
   "outputs": [],
   "source": [
    "t='''job is guaranteed if you learn through \"ineuron\"s dashboard '''"
   ]
  },
  {
   "cell_type": "code",
   "execution_count": 12,
   "id": "c8a004ce",
   "metadata": {},
   "outputs": [
    {
     "data": {
      "text/plain": [
       "'job is guaranteed if you learn through \"ineuron\"s dashboard '"
      ]
     },
     "execution_count": 12,
     "metadata": {},
     "output_type": "execute_result"
    }
   ],
   "source": [
    "t"
   ]
  },
  {
   "cell_type": "markdown",
   "id": "9e9196df",
   "metadata": {},
   "source": [
    "6.What are the values of the given expressions ?"
   ]
  },
  {
   "cell_type": "markdown",
   "id": "0d6d2ac8",
   "metadata": {},
   "source": [
    "Ans: The values for the given expressions are:\n",
    "        \n",
    "'Hello, world!'[1] -> 'e'\n",
    "\n",
    "\n",
    "'Hello, world!'[0:5] -> 'Hello'\n",
    "\n",
    "\n",
    "'Hello, world!'[:5] -> 'Hello'\n",
    "\n",
    "\n",
    "'Hello, world!'[3:] -> 'lo, world!'"
   ]
  },
  {
   "cell_type": "markdown",
   "id": "b28ddcdf",
   "metadata": {},
   "source": [
    "7.What are the values of the following expressions ?\n",
    "'\n",
    "Ans: The values for the given expressions are:\n",
    "\n",
    "\n",
    "'Hello'.upper() -> 'HELLO'\n",
    "\n",
    "\n",
    "'Hello'.upper().isupper() -> True\n",
    "\n",
    "\n",
    "'Hello'.upper().lower() -> 'hello'"
   ]
  },
  {
   "cell_type": "markdown",
   "id": "b0491ffc",
   "metadata": {},
   "source": [
    "8.What are the values of the following expressions ?\n"
   ]
  },
  {
   "cell_type": "code",
   "execution_count": 15,
   "id": "a71a086a",
   "metadata": {},
   "outputs": [
    {
     "data": {
      "text/plain": [
       "['Remember,', 'remember,', 'the', 'fifith', 'of', 'July.']"
      ]
     },
     "execution_count": 15,
     "metadata": {},
     "output_type": "execute_result"
    }
   ],
   "source": [
    "'Remember, remember, the fifith of July.'.split() "
   ]
  },
  {
   "cell_type": "code",
   "execution_count": 16,
   "id": "a441a082",
   "metadata": {},
   "outputs": [
    {
     "data": {
      "text/plain": [
       "'There-can-only-one'"
      ]
     },
     "execution_count": 16,
     "metadata": {},
     "output_type": "execute_result"
    }
   ],
   "source": [
    "'-'.join('There can only one'.split())"
   ]
  },
  {
   "cell_type": "markdown",
   "id": "ee6ee4ea",
   "metadata": {},
   "source": [
    "9.What are the methods for right-justifying, left-justifying and centering a string ?\n",
    "\n",
    "\n",
    "Ans: The rjust(),ljust(),center() string methods, respectively\n",
    "    \n",
    "\n",
    "str.ljust(s, width[, fillchar])\n",
    "\n",
    "\n",
    "\n",
    "str.rjust(s, width[, fillchar])\n",
    "\n",
    "\n",
    "\n",
    "str.center(s, width[, fillchar])"
   ]
  },
  {
   "cell_type": "markdown",
   "id": "79f0b982",
   "metadata": {},
   "source": [
    "10.What is the best way to remove whitespace characters from the start or end ?\n",
    "\n",
    "\n",
    "\n",
    "Ans: The lstrip() and rstrip() methods remove whitesapce characters from the left and right ends of a string respectively"
   ]
  },
  {
   "cell_type": "code",
   "execution_count": null,
   "id": "7749b133",
   "metadata": {},
   "outputs": [],
   "source": []
  }
 ],
 "metadata": {
  "kernelspec": {
   "display_name": "Python 3 (ipykernel)",
   "language": "python",
   "name": "python3"
  },
  "language_info": {
   "codemirror_mode": {
    "name": "ipython",
    "version": 3
   },
   "file_extension": ".py",
   "mimetype": "text/x-python",
   "name": "python",
   "nbconvert_exporter": "python",
   "pygments_lexer": "ipython3",
   "version": "3.9.12"
  }
 },
 "nbformat": 4,
 "nbformat_minor": 5
}
