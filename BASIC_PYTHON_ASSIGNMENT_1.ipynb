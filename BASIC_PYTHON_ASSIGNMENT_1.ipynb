{
 "cells": [
  {
   "cell_type": "markdown",
   "id": "c88aa8e1",
   "metadata": {},
   "source": [
    "1. In the below elements which of them are values or an expression? eg:- values can be\n",
    "integer or string and expressions will be mathematical operators."
   ]
  },
  {
   "cell_type": "markdown",
   "id": "b4fda703",
   "metadata": {},
   "source": [
    "*,-,/,+ = EXPRESSION\n",
    "\n",
    "\n",
    "\n",
    "\n",
    "'hello',-87.8,6 = value\n"
   ]
  },
  {
   "cell_type": "markdown",
   "id": "f3a8966b",
   "metadata": {},
   "source": [
    "2. What is the difference between string and variable?"
   ]
  },
  {
   "cell_type": "markdown",
   "id": "8da48fdf",
   "metadata": {},
   "source": [
    "variable is a store of informative value where as string is a type of informative value which one would like to keep inside the variable.strings are denoted by \"\" & ''"
   ]
  },
  {
   "cell_type": "markdown",
   "id": "e674ff51",
   "metadata": {},
   "source": [
    "3. Describe three different data types."
   ]
  },
  {
   "cell_type": "markdown",
   "id": "4e8b4e6f",
   "metadata": {},
   "source": [
    "int (signed integers)\n",
    "\n",
    "\n",
    "float (floating point real values)\n",
    "\n",
    "\n",
    "complex (complex numbers)\n"
   ]
  },
  {
   "cell_type": "markdown",
   "id": "7dcd72f8",
   "metadata": {},
   "source": [
    "4. What is an expression made up of? What do all expressions do?"
   ]
  },
  {
   "cell_type": "markdown",
   "id": "7c2efcbf",
   "metadata": {},
   "source": [
    "An expression is a construct made up of variables, operators, and method invocations, which are constructed according to the syntax of the language, that evaluates to a single value."
   ]
  },
  {
   "cell_type": "markdown",
   "id": "18802173",
   "metadata": {},
   "source": [
    "5. This assignment statements, like spam = 10. What is the difference between an\n",
    "expression and a statement?"
   ]
  },
  {
   "cell_type": "markdown",
   "id": "1e9771a3",
   "metadata": {},
   "source": [
    "if we see the present scenario.spam=10...expression is denoted by( = ,spam )here as one is an operator and other is a variable which is constructed according to the syntax of language where as combination of both expression and value is a statement here.."
   ]
  },
  {
   "cell_type": "markdown",
   "id": "3342bb34",
   "metadata": {},
   "source": [
    "6. After running the following code, what does the variable bacon contain?\n",
    "bacon = 22\n",
    "bacon + 1"
   ]
  },
  {
   "cell_type": "code",
   "execution_count": 8,
   "id": "307cdf8b",
   "metadata": {},
   "outputs": [
    {
     "data": {
      "text/plain": [
       "23"
      ]
     },
     "execution_count": 8,
     "metadata": {},
     "output_type": "execute_result"
    }
   ],
   "source": [
    "bacon=22\n",
    "bacon+1"
   ]
  },
  {
   "cell_type": "markdown",
   "id": "c94be16e",
   "metadata": {},
   "source": [
    "7. What should the values of the following two terms be?\n",
    "\n"
   ]
  },
  {
   "cell_type": "code",
   "execution_count": 9,
   "id": "165af712",
   "metadata": {},
   "outputs": [
    {
     "data": {
      "text/plain": [
       "'spamspamspam'"
      ]
     },
     "execution_count": 9,
     "metadata": {},
     "output_type": "execute_result"
    }
   ],
   "source": [
    "'spamspam'+'spam'"
   ]
  },
  {
   "cell_type": "code",
   "execution_count": 10,
   "id": "634b903e",
   "metadata": {},
   "outputs": [
    {
     "data": {
      "text/plain": [
       "'spamspamspam'"
      ]
     },
     "execution_count": 10,
     "metadata": {},
     "output_type": "execute_result"
    }
   ],
   "source": [
    "'spam'*3"
   ]
  },
  {
   "cell_type": "markdown",
   "id": "d4641118",
   "metadata": {},
   "source": [
    "8. Why is eggs a valid variable name while 100 is invalid?"
   ]
  },
  {
   "cell_type": "markdown",
   "id": "39d9a05c",
   "metadata": {},
   "source": [
    "a valid variable name begins with a alphabet ,not with an integer...therefore eggs is a valid variable name\n"
   ]
  },
  {
   "cell_type": "markdown",
   "id": "13fd7ea3",
   "metadata": {},
   "source": [
    "9. What three functions can be used to get the integer, floating-point number, or string\n",
    "version of a value?"
   ]
  },
  {
   "cell_type": "markdown",
   "id": "f66c623a",
   "metadata": {},
   "source": [
    "str()\n",
    "\n",
    "int()\n",
    "\n",
    "float()"
   ]
  },
  {
   "cell_type": "markdown",
   "id": "24391a9f",
   "metadata": {},
   "source": [
    "10. Why does this expression cause an error? How can you fix it?\n",
    "\n",
    "'I have eaten' + 99 + 'burritos' "
   ]
  },
  {
   "cell_type": "markdown",
   "id": "4151569f",
   "metadata": {},
   "source": [
    "here 99 is an integer and it cannot be concatenated with string.....typecasting is necessary to fix this"
   ]
  },
  {
   "cell_type": "code",
   "execution_count": null,
   "id": "c8945799",
   "metadata": {},
   "outputs": [],
   "source": []
  }
 ],
 "metadata": {
  "kernelspec": {
   "display_name": "Python 3 (ipykernel)",
   "language": "python",
   "name": "python3"
  },
  "language_info": {
   "codemirror_mode": {
    "name": "ipython",
    "version": 3
   },
   "file_extension": ".py",
   "mimetype": "text/x-python",
   "name": "python",
   "nbconvert_exporter": "python",
   "pygments_lexer": "ipython3",
   "version": "3.9.12"
  }
 },
 "nbformat": 4,
 "nbformat_minor": 5
}
