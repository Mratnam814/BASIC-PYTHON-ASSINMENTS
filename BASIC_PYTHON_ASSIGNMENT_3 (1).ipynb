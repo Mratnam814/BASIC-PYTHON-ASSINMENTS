{
 "cells": [
  {
   "cell_type": "markdown",
   "id": "e2378396",
   "metadata": {},
   "source": [
    "1. Why are functions advantageous to have in your programs?"
   ]
  },
  {
   "cell_type": "raw",
   "id": "6c544d27",
   "metadata": {},
   "source": [
    "Organisation:-a function is almost like a mini program which we can write seprately....it can make an lengthy programmes shorter..moreover it can be extended whenever you want it..\n",
    "\n",
    "\n",
    "Reusability:- a function can be called anytime you want....it keeps away the headache of writing programs again and again which also makes us avoid copy paste errors\n",
    "\n",
    "\n",
    "Testing:-Once we have tested that a function works,we dont need to test it again and again to check it unless we change the code written for function.this reduces the amount of code we have to test at a time resulting in much easier manner to find bugs"
   ]
  },
  {
   "cell_type": "markdown",
   "id": "d8bd4f40",
   "metadata": {},
   "source": [
    "2. When does the code in a function run: when its specified or when its called?"
   ]
  },
  {
   "cell_type": "markdown",
   "id": "c77d8080",
   "metadata": {},
   "source": [
    "Function is a block of code that only runs when it is called...it can be called any time and it starts running"
   ]
  },
  {
   "cell_type": "markdown",
   "id": "4663bb35",
   "metadata": {},
   "source": [
    "3. What statement creates a function?"
   ]
  },
  {
   "cell_type": "markdown",
   "id": "aebc5b72",
   "metadata": {},
   "source": [
    "the def statement create a function"
   ]
  },
  {
   "cell_type": "code",
   "execution_count": 1,
   "id": "5f3409ec",
   "metadata": {},
   "outputs": [
    {
     "data": {
      "text/plain": [
       "9"
      ]
     },
     "execution_count": 1,
     "metadata": {},
     "output_type": "execute_result"
    }
   ],
   "source": [
    "#example\n",
    "def add(a,b):\n",
    "    return a+b\n",
    "\n",
    "add(4,5)"
   ]
  },
  {
   "cell_type": "markdown",
   "id": "4ea809cb",
   "metadata": {},
   "source": [
    "4. What is the difference between a function and a function call?"
   ]
  },
  {
   "cell_type": "markdown",
   "id": "ab6327fc",
   "metadata": {},
   "source": [
    "a function is a block of code that performs a particular operation and returns the result,it accepts input as parameters and gives result..parameters are not necessary though where as a function call is a shorter code that is used to call that function or pass control to that function"
   ]
  },
  {
   "cell_type": "code",
   "execution_count": 2,
   "id": "edef1d92",
   "metadata": {},
   "outputs": [
    {
     "data": {
      "text/plain": [
       "64"
      ]
     },
     "execution_count": 2,
     "metadata": {},
     "output_type": "execute_result"
    }
   ],
   "source": [
    "#example\n",
    "#function\n",
    "def cube(y):\n",
    "    return y*y*y\n",
    "\n",
    "#function_calL\n",
    "cube(4)"
   ]
  },
  {
   "cell_type": "markdown",
   "id": "73068a72",
   "metadata": {},
   "source": [
    "5. How many global scopes are there in a Python program? How many local scopes?\n"
   ]
  },
  {
   "cell_type": "markdown",
   "id": "96ecb55b",
   "metadata": {},
   "source": [
    "there is one global scope and a local scope created whenever a function is called.variable created inside the body of function is called local scope and can be only used inside that function whereas variable created in the main body of the program is called global variable and belongs to the global scope"
   ]
  },
  {
   "cell_type": "markdown",
   "id": "1b5fe395",
   "metadata": {},
   "source": [
    "6. What happens to variables in a local scope when the function call returns?"
   ]
  },
  {
   "cell_type": "markdown",
   "id": "9b245da0",
   "metadata": {},
   "source": [
    "When a function returns, the local scope is destroyed, and all the variables in it are forgotten. A local variable becomes undefined after the function call completes"
   ]
  },
  {
   "cell_type": "markdown",
   "id": "b416cf7b",
   "metadata": {},
   "source": [
    "7. What is the concept of a return value? Is it possible to have a return value in an expression?"
   ]
  },
  {
   "cell_type": "markdown",
   "id": "36d51d7a",
   "metadata": {},
   "source": [
    "The Python return statement is a key component of functions and methods. We can use the return statement to make functions send Python objects back to the caller code. These objects are known as the function’s return value. A return value is the value that a function call evaluates to. Like any value, a return value can be used as part of an expression."
   ]
  },
  {
   "cell_type": "markdown",
   "id": "a1c6557a",
   "metadata": {},
   "source": [
    "8. If a function does not have a return statement, what is the return value of a call to that function?"
   ]
  },
  {
   "cell_type": "markdown",
   "id": "3fa8bb62",
   "metadata": {},
   "source": [
    ": If there is no return statement for a function, its return value is None. The function always returns None if explicit return is not written."
   ]
  },
  {
   "cell_type": "markdown",
   "id": "6a11ed2e",
   "metadata": {},
   "source": [
    "9. How do you make a function variable refer to the global variable?\n",
    "\n",
    "\n",
    "\n",
    " A global statement will force a variable in a function to refer to the global variable. If you want to refer to a global variable in a function, you can use the global keyword to declare which variables are global."
   ]
  },
  {
   "cell_type": "markdown",
   "id": "1081448b",
   "metadata": {},
   "source": [
    "10. What is the data type of None?\n",
    "\n",
    "\n",
    "The data type of None is NoneType."
   ]
  },
  {
   "cell_type": "markdown",
   "id": "460d5b75",
   "metadata": {},
   "source": [
    "11. What does the sentence import areallyourpetsnamederic do?\n",
    "\n",
    "\n",
    " That import statement imports a module named areallyourpetsnamederic."
   ]
  },
  {
   "cell_type": "markdown",
   "id": "04631139",
   "metadata": {},
   "source": [
    "12. If you had a bacon() feature in a spam module, what would you call it after importing spam?\n",
    "\n",
    "This function can be called with spam.bacon()."
   ]
  },
  {
   "cell_type": "markdown",
   "id": "3591d010",
   "metadata": {},
   "source": [
    "13. What can you do to save a programme from crashing if it encounters an error?\n",
    "We can place the line of code that might cause an error in a try clause and use except block to handle the error as mentioned below:"
   ]
  },
  {
   "cell_type": "code",
   "execution_count": 3,
   "id": "52b876bd",
   "metadata": {},
   "outputs": [
    {
     "name": "stdout",
     "output_type": "stream",
     "text": [
      "division by zero\n"
     ]
    }
   ],
   "source": [
    "try:\n",
    "    a=2\n",
    "    b=0\n",
    "    c=a/b\n",
    "    print(c)\n",
    "except ZeroDivisionError as e:\n",
    "    print(e)"
   ]
  },
  {
   "cell_type": "markdown",
   "id": "8890d8a8",
   "metadata": {},
   "source": [
    "14. What is the purpose of the try clause? What is the purpose of the except clause?\n",
    "\n",
    "\n",
    "The code that could potentially cause an error goes in the try clause. The code that executes if an error happens goes in the except clause as seen in answer 13"
   ]
  },
  {
   "cell_type": "code",
   "execution_count": null,
   "id": "9c0ae4fe",
   "metadata": {},
   "outputs": [],
   "source": []
  }
 ],
 "metadata": {
  "kernelspec": {
   "display_name": "Python 3 (ipykernel)",
   "language": "python",
   "name": "python3"
  },
  "language_info": {
   "codemirror_mode": {
    "name": "ipython",
    "version": 3
   },
   "file_extension": ".py",
   "mimetype": "text/x-python",
   "name": "python",
   "nbconvert_exporter": "python",
   "pygments_lexer": "ipython3",
   "version": "3.9.12"
  }
 },
 "nbformat": 4,
 "nbformat_minor": 5
}
